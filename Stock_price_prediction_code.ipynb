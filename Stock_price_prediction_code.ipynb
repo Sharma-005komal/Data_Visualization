from sklearn.model_selection import train_test_split
from sklearn.linear_model import LinearRegression
from sklearn import metrics
import pandas as pd
import matplotlib.pyplot as plt
%matplotlib inline
dataset = pd.read_csv('NSE-Tata-Global-Beverages-Limited.csv')
dataset.info()
dataset.shape
dataset.describe()
x = dataset[['High', 'Low', 'Open', 'Total Trade Quantity']].values
y = dataset['Close'].values
x_train, x_test, y_train, y_test = train_test_split(x, y, test_size=0.2, random_state=0)
regressor = LinearRegression()
regressor.fit(x_train, y_train)
print(regressor.coef_)
print(regressor.intercept_)
predicted = regressor.predict(x_test)
print(predicted)
dframe = pd.DataFrame({'Actual':y_test.flatten(), 'Predicted':predicted.flatten()})
dframe.head(20)
import math
print('Mean Absolute Error:', metrics.mean_absolute_error(y_test, predicted))
print('Mean Squared Error:', metrics.mean_squared_error(y_test, predicted))
print('Root Mean Squared Error:', math.sqrt(metrics.mean_squared_error(y_test, predicted)))
graph = dframe.head(20)
graph.plot(kind = 'bar')
